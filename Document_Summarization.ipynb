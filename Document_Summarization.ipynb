{
  "cells": [
    {
      "cell_type": "markdown",
      "id": "421b65ec",
      "metadata": {
        "id": "421b65ec",
        "vscode": {
          "languageId": "plaintext"
        }
      },
      "source": [
        "### 미션 소개\n",
        "Hugging Face transformers 라이브러리를 사용하여 문서 요약 모델을 구현하는 미션입니다. 데이터 로드 및 전처리부터 요약 모델 실행, 결과 평가까지 전체 파이프라인을 구축해 보세요.\n",
        "\n",
        "### 사용 데이터셋\n",
        "[AI HUB 문서요약 텍스트](https://aihub.or.kr/aihubdata/data/view.do?currMenu=115&topMenu=100&aihubDataSe=realm&dataSetSn=97)\n",
        "\n",
        "### 데이터셋\n",
        "JSON 파일 형태로 제공되며, 3종류(신문 기사, 사설, 법률)의 문서 중 일부만 사용."
      ]
    },
    {
      "cell_type": "markdown",
      "id": "f4ca2524",
      "metadata": {
        "id": "f4ca2524"
      },
      "source": [
        "# 통합 데이터 로드 및 전처리"
      ]
    },
    {
      "cell_type": "code",
      "execution_count": null,
      "id": "5c81d344",
      "metadata": {
        "id": "5c81d344"
      },
      "outputs": [],
      "source": [
        "import os\n",
        "from tqdm import tqdm\n",
        "import json\n",
        "from datasets import load_dataset, Dataset, DatasetDict\n",
        "import evaluate\n",
        "import numpy as np\n",
        "import pandas as pd\n",
        "import matplotlib.pyplot as plt\n",
        "import seaborn as sns\n",
        "\n",
        "import torch\n",
        "\n",
        "import transformers\n",
        "from transformers import BartTokenizerFast\n",
        "from transformers import DataCollatorForSeq2Seq\n",
        "from transformers import Seq2SeqTrainer, Seq2SeqTrainingArguments\n",
        "from transformers import BartForConditionalGeneration, PreTrainedTokenizerFast\n",
        "from transformers import Trainer\n",
        "\n",
        "# from transformers import TrainingArguments\n",
        "from transformers import pipeline"
      ]
    },
    {
      "cell_type": "markdown",
      "id": "a2eb7cfc",
      "metadata": {},
      "source": [
        "# 데이터 로드 및 flatten"
      ]
    },
    {
      "cell_type": "code",
      "execution_count": null,
      "id": "5b7a9bc2",
      "metadata": {
        "id": "5b7a9bc2"
      },
      "outputs": [],
      "source": [
        "# JSON 파일 로드\n",
        "def load_json(path):\n",
        "    with open(path, 'r', encoding='utf-8') as f:\n",
        "        raw = json.load(f)\n",
        "    return raw['documents']    # raw['documents'] : JSON 파일 안에서 요약 학습에 사용할 문서들이 저장된 핵심 리스트"
      ]
    },
    {
      "cell_type": "code",
      "execution_count": null,
      "id": "c624060d",
      "metadata": {
        "id": "c624060d"
      },
      "outputs": [],
      "source": [
        "# JSON으로 구성된 복잡한 문서 구조를 BART 학습에 맞게 평탄화(flatten)하여 간단한 텍스트 형태로 변환\n",
        "# 하나의 document JSON 객체를 입력으로 받아, 학습용 평탄화 딕셔너리로 변환\n",
        "def flatten_document(doc, doc_type):\n",
        "    paragraphs = doc['text']    # 2차원 리스트.  문장은 2중 리스트로 구성되어 있음 ([[{}, {}, ...], [{}, ...]])\n",
        "    sentences = [s['sentence'] for p in  paragraphs for s in p]    # 2중 리스트를 평탄화(flatten)하며 각 객체에서 \"sentence\" 텍스트 추출\n",
        "    full_text = ' '.join(sentences)    # 평탄화된 문장들을 하나의 긴 문자열로 합침\n",
        "\n",
        "    summary = doc['abstractive'][0] if doc['abstractive'] else \"\"    # abstractive 요약이 존재하면 첫 번째 문장을 사용\n",
        "\n",
        "    return {\n",
        "        'id': doc['id'],\n",
        "        'text': full_text,\n",
        "        'summary': summary,\n",
        "        'type': doc_type\n",
        "    }"
      ]
    },
    {
      "cell_type": "code",
      "execution_count": null,
      "id": "a6b57903",
      "metadata": {
        "id": "a6b57903"
      },
      "outputs": [],
      "source": [
        "def load_dataset_flat(file_path, doc_type, max_samples = None):\n",
        "    raw_docs = load_json(file_path)\n",
        "    if max_samples is not None:\n",
        "        raw_docs = raw_docs[:max_samples] # 앞에서 n개만 사용\n",
        "    return [flatten_document(doc, doc_type) for doc in tqdm(raw_docs)]"
      ]
    },
    {
      "cell_type": "markdown",
      "id": "542fe003",
      "metadata": {},
      "source": [
        "#### ※ 참고 ※\n",
        "\n",
        "- 대부분의 학습용 문서 데이터는 nested 구조 ([paragraph][sentence])로 되어 있어서 학습 전 평탄화가 필수이다.\n",
        "- \"abstractive\"는 사람이 직접 쓴 요약을 의미"
      ]
    },
    {
      "cell_type": "code",
      "execution_count": null,
      "id": "W3pcgNfBusFv",
      "metadata": {
        "colab": {
          "base_uri": "https://localhost:8080/"
        },
        "id": "W3pcgNfBusFv",
        "outputId": "829cd9ff-6d2f-4e59-fe86-d2bec247f287"
      },
      "outputs": [
        {
          "name": "stdout",
          "output_type": "stream",
          "text": [
            "/content/drive/MyDrive/Projects/문서 요약\n"
          ]
        }
      ],
      "source": [
        "cd /content/drive/MyDrive/Projects/문서 요약"
      ]
    },
    {
      "cell_type": "code",
      "execution_count": null,
      "id": "72952b6e",
      "metadata": {
        "id": "72952b6e"
      },
      "outputs": [],
      "source": [
        "# 파일 경로 설정\n",
        "train_files = {\n",
        "    \"editorial\": \"./summarization/train_original_editorial.json\",\n",
        "    \"law\": \"./summarization/train_original_law.json\",\n",
        "    \"news\": \"./summarization/train_original_news.json\"\n",
        "}\n",
        "\n",
        "valid_files = {\n",
        "    \"editorial\": \"./summarization/valid_original_editorial.json\",\n",
        "    \"law\": \"./summarization/valid_original_law.json\",\n",
        "    \"news\": \"./summarization/valid_original_news.json\"\n",
        "}"
      ]
    },
    {
      "cell_type": "code",
      "execution_count": null,
      "id": "71d47287",
      "metadata": {
        "colab": {
          "base_uri": "https://localhost:8080/"
        },
        "id": "71d47287",
        "outputId": "6d60560f-6ee2-463a-ab52-9c251c614f67"
      },
      "outputs": [
        {
          "name": "stderr",
          "output_type": "stream",
          "text": [
            "100%|██████████| 5000/5000 [00:00<00:00, 190560.10it/s]\n",
            "100%|██████████| 5000/5000 [00:00<00:00, 297738.66it/s]\n",
            "100%|██████████| 5000/5000 [00:00<00:00, 172322.86it/s]\n",
            "100%|██████████| 500/500 [00:00<00:00, 154134.35it/s]\n",
            "100%|██████████| 500/500 [00:00<00:00, 180322.61it/s]\n",
            "100%|██████████| 500/500 [00:00<00:00, 160910.92it/s]\n"
          ]
        }
      ],
      "source": [
        "# 통합 데이터셋 생성\n",
        "train_data = []\n",
        "valid_data = []\n",
        "\n",
        "for doc_type, path in train_files.items():\n",
        "    train_data.extend(load_dataset_flat(path, doc_type, max_samples=5000))\n",
        "\n",
        "for doc_type, path in valid_files.items():\n",
        "    valid_data.extend(load_dataset_flat(path, doc_type, max_samples=500))"
      ]
    },
    {
      "cell_type": "markdown",
      "id": "3b67f6b3",
      "metadata": {
        "id": "3b67f6b3"
      },
      "source": [
        "# Hugging Face Dataset으로 변환\n"
      ]
    },
    {
      "cell_type": "code",
      "execution_count": null,
      "id": "7734a4ed",
      "metadata": {
        "id": "7734a4ed"
      },
      "outputs": [],
      "source": [
        "# Hugging Face DatasetDict 형태로 데이터를 변환하여 Trainer에 바로 넘길 수 있도록 함.\n",
        "train_dataset = Dataset.from_list(train_data)\n",
        "valid_dataset = Dataset.from_list(valid_data)"
      ]
    },
    {
      "cell_type": "code",
      "execution_count": null,
      "id": "01539d65",
      "metadata": {},
      "outputs": [],
      "source": [
        "# Dataset.from_list()?\n",
        "# Python의 리스트 형태 데이터를 Hugging Face의 Dataset 객체로 변환해주는 함수\n",
        "# Hugging Face에서는 Trainer나 .map(), tokenizer() 등을 사용하려면 반드시 Dataset 형식이어야 함.\n",
        "# 다른 방법은 없을까? 있다. 1. Dataset.from_dict() 2. load_dataset()\n",
        "# 하지만, 본 프로젝트에서는 이미 리스트 형태로 정리된 데이터를 가지고 있기에 '.from_list'가 적절"
      ]
    },
    {
      "cell_type": "code",
      "execution_count": null,
      "id": "94b682b8",
      "metadata": {
        "id": "94b682b8"
      },
      "outputs": [],
      "source": [
        "dataset = DatasetDict({\n",
        "    \"train\": train_dataset,\n",
        "    \"validation\": valid_dataset\n",
        "})"
      ]
    },
    {
      "cell_type": "markdown",
      "id": "dad0f5ac",
      "metadata": {
        "id": "dad0f5ac"
      },
      "source": [
        "# BART tokenizer 및 model 불러오기"
      ]
    },
    {
      "cell_type": "code",
      "execution_count": null,
      "id": "846bc973",
      "metadata": {
        "colab": {
          "base_uri": "https://localhost:8080/"
        },
        "id": "846bc973",
        "outputId": "ff2c3808-ae41-405f-f069-b7abf7d2dad8"
      },
      "outputs": [
        {
          "name": "stderr",
          "output_type": "stream",
          "text": [
            "/usr/local/lib/python3.11/dist-packages/huggingface_hub/utils/_auth.py:94: UserWarning: \n",
            "The secret `HF_TOKEN` does not exist in your Colab secrets.\n",
            "To authenticate with the Hugging Face Hub, create a token in your settings tab (https://huggingface.co/settings/tokens), set it as secret in your Google Colab and restart your session.\n",
            "You will be able to reuse this secret in all of your notebooks.\n",
            "Please note that authentication is recommended but still optional to access public models or datasets.\n",
            "  warnings.warn(\n",
            "You passed along `num_labels=3` with an incompatible id to label map: {'0': 'NEGATIVE', '1': 'POSITIVE'}. The number of labels will be overwritten to 2.\n",
            "The tokenizer class you load from this checkpoint is not the same type as the class this function is called from. It may result in unexpected tokenization. \n",
            "The tokenizer class you load from this checkpoint is 'BartTokenizer'. \n",
            "The class this function is called from is 'PreTrainedTokenizerFast'.\n",
            "You passed along `num_labels=3` with an incompatible id to label map: {'0': 'NEGATIVE', '1': 'POSITIVE'}. The number of labels will be overwritten to 2.\n"
          ]
        }
      ],
      "source": [
        "model_checkpoint = \"gogamza/kobart-summarization\"\n",
        "tokenizer = PreTrainedTokenizerFast.from_pretrained(model_checkpoint)\n",
        "model = BartForConditionalGeneration.from_pretrained(model_checkpoint)"
      ]
    },
    {
      "cell_type": "markdown",
      "id": "a39da89b",
      "metadata": {
        "id": "a39da89b"
      },
      "source": [
        "# Tokenize 전처리 함수\n",
        "입력(text)과 타겟(summary)을 각각 모델이 이해할 수 있는 input_ids, labels로 변환"
      ]
    },
    {
      "cell_type": "code",
      "execution_count": null,
      "id": "1a4d907d",
      "metadata": {
        "id": "1a4d907d"
      },
      "outputs": [],
      "source": [
        "max_input_length = 512     # 제한된 자원으로 길이 축소\n",
        "max_target_length = 128"
      ]
    },
    {
      "cell_type": "code",
      "execution_count": null,
      "id": "9068a1ca",
      "metadata": {
        "id": "9068a1ca"
      },
      "outputs": [],
      "source": [
        "def preprocess(example):\n",
        "    # 원문 입력 토크나이징\n",
        "    model_input = tokenizer(\n",
        "        example[\"text\"],    # text: 입력 문장 (원문 전체)\n",
        "        max_length = max_input_length,    # max_length=1024 : BART가 수용할 수 있는 최대 토큰 수\n",
        "        padding = \"max_length\",    # padding=\"max_length\": 짧은 문장은 <pad>로 길이 고정\n",
        "        truncation = True   # 너무 긴 문장은 자름\n",
        "    )\n",
        "\n",
        "    # 요약문 타겟 토크나이징\n",
        "    with tokenizer.as_target_tokenizer():   # as_target_tokenizer() : BART 계열에서 타겟 전용 토크나이징을 지정할 때 필요함.\n",
        "        label = tokenizer(\n",
        "            example[\"summary\"],    # summary : 타겟 시퀀스 (모델이 생성해야 할 정답)\n",
        "            # padding=\"max_length\"와 truncation=True는 GPU 배치 구성에 매우 중요\n",
        "            max_length = max_target_length, \n",
        "            padding = \"max_length\",    # 고정된 길이로 맞추기 위해 빈 부분에 <pad> 토큰 채움\n",
        "            truncation = True    # 길이가 너무 길 경우 잘라냄\n",
        "        )\n",
        "\n",
        "    # 레이블 정보 추가\n",
        "    model_input[\"labels\"] = label[\"input_ids\"]  # 모델 학습에 사용할 정답 시퀀스를 \"labels\"라는 키로 추가 / Trainer가 이 값을 참조하여 Loss 계산\n",
        "    return model_input"
      ]
    },
    {
      "cell_type": "code",
      "execution_count": null,
      "id": "9c6dd549",
      "metadata": {},
      "outputs": [],
      "source": [
        "# as_target_tokenizer()\n",
        "# BART 기반 모델은 입력(input)과 출력(target) 토크나이징 설정이 서로 다를 수 있기에 as_target_tokenizer()가 필요하다.\n",
        "\n",
        "# BART는 입력엔 [CLS], 출력엔 [BOS] 등 다른 special token이 들어갈 수 있다.\n",
        "# 이를 구분해서 처리하는 역할을 as_target_tokenizer()가 한다.\n",
        "# tokenizer(...)는 일반적으로 입력 텍스트를 인코딩할 때 쓰지만, 요약처럼 출력 문장(target)도 토크나이징할 때는 그에 맞는 설정을 해야한다.\n",
        "# 즉, with tokenizer.as_target_tokenizer(): 블록 안에서는 \"지금은 정답 문장 요약을 토크나이징할 거야!\"라고 말하는 것이다."
      ]
    },
    {
      "cell_type": "markdown",
      "id": "41d2fd86",
      "metadata": {
        "id": "41d2fd86"
      },
      "source": [
        "# 데이터셋 전처리 적용"
      ]
    },
    {
      "cell_type": "code",
      "execution_count": null,
      "id": "e4c3a1c7",
      "metadata": {
        "colab": {
          "base_uri": "https://localhost:8080/",
          "height": 138,
          "referenced_widgets": [
            "37fa953746934bdbaf374424dcf77059",
            "93bd96779a55401bbc551d4fbf2a645a",
            "b48a1d177154432e984676e06e388272",
            "1be50a0a2de84ddd84d176ef3c4caf4c",
            "15750dd34e6a4a269349ac23190b587a",
            "8105f33b6c2245779e86a2912bb2ffa6",
            "77df1a0ab69948eba7a1be7612ebfabd",
            "8ea682a152a841eab34979873de0ba11",
            "2aad772753d24b28bea9fa965cdb3a92",
            "2209769f275647e8bf1f1e69762eb943",
            "6fd1e859a6264506bfe6eaa3cc1578a0",
            "4b8b17a193314444ae41c5abe6e8f9a6",
            "42093cfc16bc41e398f150297457f406",
            "d66f5a214a67434ba6d9d25a198e788d",
            "e2c7aa7778064736be29c48e4dfca589",
            "efd8e8fcade740caafbeb35b2a5c37f8",
            "1e515e2e64e0418fb6dfe3c1e3526c87",
            "e1e5cbdf7cf94b67a9ea1258cac3b2d0",
            "8ecc186720ae4623a9570cefb127c534",
            "424ca599c1cf4c9aa56ff7361619e96f",
            "6da7f8ec0a724191926a96e2da792605",
            "4f8d7e0cfed84402843245d800e4adec"
          ]
        },
        "id": "e4c3a1c7",
        "outputId": "b188ed36-7732-41c8-935d-5a90aa415d15"
      },
      "outputs": [],
      "source": [
        "# 원본 데이터셋(dataset)에 전처리(preprocess)를 적용해, 모델 학습에 필요한 형태(토크나이즈된 입력/출력)로 변환\n",
        "tokenized_dataset = dataset.map(\n",
        "    preprocess,    # 하나의 예시(example)를 받아서 input_ids, attention_mask, labels로 토크나이징하는 함수\n",
        "    batched = True,    # 여러 개의 예시를 한 번에 처리(batch 단위로 preprocess 실행 → \"속도 향상\")\n",
        "    remove_columns = [\"id\", \"text\", \"summary\", \"type\"]    # 전처리 후 원래 필요 없어진 열은 제거 (모델에는 input_ids, labels만 필요함) → Trainer에 불필요한 column 제거 (오류 방지)\n",
        ")"
      ]
    },
    {
      "cell_type": "markdown",
      "id": "ce4071c3",
      "metadata": {
        "id": "ce4071c3"
      },
      "source": [
        "# DataCollator 정의\n",
        "학습 중에 데이터를 batch 단위로 묶고, 자동으로 padding을 처리해주는 도우미같은 역할"
      ]
    },
    {
      "cell_type": "code",
      "execution_count": null,
      "id": "a2663765",
      "metadata": {
        "id": "a2663765"
      },
      "outputs": [],
      "source": [
        "data_collator = DataCollatorForSeq2Seq(tokenizer=tokenizer, model=model)"
      ]
    },
    {
      "cell_type": "code",
      "execution_count": null,
      "id": "d29b2e0f",
      "metadata": {},
      "outputs": [],
      "source": [
        "# 입력 문장마다 길이가 다르면, GPU로 묶어서 처리하기 어렵기 때문에 DataCollator가 필요하다.\n",
        "\n",
        "# (DataCollatorForSeq2Seq 하는 일)\n",
        "# 배치 내 가장 긴 시퀀스 기준으로 나머지에 자동 padding\n",
        "# attention_mask를 생성해서 패딩된 위치를 무시하도록 처리\n",
        "# label(요약문)에도 padding을 동일하게 적용\n",
        "# Trainer가 바로 학습에 사용할 수 있는 배치 형태로 데이터를 구성\n",
        "\n",
        "# 요약 태스크처럼 입력-출력 시퀀스가 모두 있는 구조에서는 일반 collator보다 DataCollatorForSeq2Seq가 더 적절하다."
      ]
    },
    {
      "cell_type": "markdown",
      "id": "dXCQRgtKSH1v",
      "metadata": {
        "id": "dXCQRgtKSH1v"
      },
      "source": [
        "# 평가지표 설정"
      ]
    },
    {
      "cell_type": "code",
      "execution_count": null,
      "id": "3OSSRolHp1Te",
      "metadata": {
        "id": "3OSSRolHp1Te"
      },
      "outputs": [],
      "source": [
        "rouge = evaluate.load(\"rouge\")\n",
        "\n",
        "def compute_metrics(eval_pred):\n",
        "    predictions, labels = eval_pred\n",
        "\n",
        "    decoded_preds = tokenizer.batch_decode(predictions, skip_special_tokens=True)\n",
        "    labels = np.where(labels != -100, tokenizer.pad_token_id, labels)\n",
        "    decoded_labels = tokenizer.batch_decode(labels, skip_special_tokens=True)\n",
        "\n",
        "    # 빈 샘플 제거\n",
        "    filtered_preds, filtered_labels = [], []\n",
        "    for pred, label in zip(decoded_preds, decoded_labels):\n",
        "        if pred.strip():    # <- if pred.strip() \"and label.strip()\":\n",
        "            filtered_preds.append(pred.strip())\n",
        "            filtered_labels.append(label.strip())\n",
        "\n",
        "    # ROUGE 계산\n",
        "    rouge_score = rouge.compute(\n",
        "        predictions=filtered_preds,\n",
        "        references=filtered_labels,\n",
        "        use_stemmer=True,    # \"eats\" vs \"eat\" 같은 단어 형태를 통일시켜 비교 정확도 향상\n",
        "        use_aggregator=True  # 샘플별 ROUGE를 평균내어 f-measure 계산 가능하게 함 (.mid.fmeasure 사용 가능해짐)\n",
        "    )\n",
        "\n",
        "    result = {\n",
        "        \"rouge1\": round(rouge_score[\"rouge1\"].mid.fmeasure * 100, 4),\n",
        "        \"rouge2\": round(rouge_score[\"rouge2\"].mid.fmeasure * 100, 4),\n",
        "        \"rougeL\": round(rouge_score[\"rougeL\"].mid.fmeasure * 100, 4)\n",
        "    }\n",
        "\n",
        "    return result\n"
      ]
    },
    {
      "cell_type": "markdown",
      "id": "0083f2b0",
      "metadata": {},
      "source": [
        "| 지표          | 설명                                            |\n",
        "| ----------- | --------------------------------------------- |\n",
        "| **ROUGE-1** | 단어 단위 중복률 (precision, recall, f1 모두 가능)       |\n",
        "| **ROUGE-2** | 2-gram 중복률                                    |\n",
        "| **ROUGE-L** | LCS(Longest Common Subsequence) 기반 → 문장 순서 반영 |\n"
      ]
    },
    {
      "cell_type": "markdown",
      "id": "6062db58",
      "metadata": {
        "id": "6062db58"
      },
      "source": [
        "# Trainer 설정"
      ]
    },
    {
      "cell_type": "code",
      "execution_count": null,
      "id": "3e062cea",
      "metadata": {
        "id": "3e062cea"
      },
      "outputs": [],
      "source": [
        "training_args = Seq2SeqTrainingArguments(\n",
        "    output_dir=\"./kobart-summary\",\n",
        "    save_strategy=\"steps\",\n",
        "    logging_strategy=\"steps\",\n",
        "    per_device_train_batch_size=16,\n",
        "    per_device_eval_batch_size=16,\n",
        "    num_train_epochs=5,\n",
        "    learning_rate=1e-4,\n",
        "    weight_decay=0.01,\n",
        "    save_total_limit=2,\n",
        "    predict_with_generate=True,\n",
        "    logging_steps=500,\n",
        "    save_steps=3000,\n",
        "    eval_steps=500,\n",
        "    fp16=True,\n",
        "    report_to=\"none\"\n",
        ")\n",
        "\n",
        "# fp16=True : GPU 메모리 효율 향상\n",
        "# predict_with_generate=True : generate() 방식으로 예측 가능 (요약 태스크에 필수)"
      ]
    },
    {
      "cell_type": "markdown",
      "id": "a035d97f",
      "metadata": {},
      "source": [
        "| 파라미터                          | 설명                               |\n",
        "| ----------------------------- | -------------------------------- |\n",
        "| `output_dir`                  | 결과 모델 저장 경로                      |\n",
        "| `save_strategy=\"steps\"`       | N step마다 저장                      |\n",
        "| `logging_strategy=\"steps\"`    | 로그도 N step마다 출력                  |\n",
        "| `per_device_train_batch_size` | GPU당 학습 배치 크기                    |\n",
        "| `per_device_eval_batch_size`  | 평가 시 배치 크기                       |\n",
        "| `num_train_epochs`            | 전체 데이터셋을 몇 번 반복 학습할지             |\n",
        "| `learning_rate`               | 학습률, 모델이 얼마나 빠르게 학습하는가           |\n",
        "| `weight_decay`                | 가중치 감소 (overfitting 방지용 정규화)     |\n",
        "| `save_total_limit=2`          | 저장 모델 개수 제한 (디스크 절약)             |\n",
        "| `predict_with_generate=True`  | 예측 시 `generate()`로 생성 (요약 필수 옵션) |\n",
        "| `logging_steps=500`           | 500 스텝마다 로그 출력                   |\n",
        "| `save_steps=3000`             | 3000 스텝마다 체크포인트 저장               |\n",
        "| `eval_steps=500`              | 500 스텝마다 검증 평가                   |\n",
        "| `fp16=True`                   | 혼합 정밀도 학습 (GPU 메모리 효율 UP)        |\n",
        "| `report_to=\"none\"`            | wandb, tensorboard 등 로그 툴 사용 안 함 |\n"
      ]
    },
    {
      "cell_type": "markdown",
      "id": "5377f855",
      "metadata": {
        "id": "5377f855"
      },
      "source": [
        "# Trainer 객체 생성 및 학습 시작"
      ]
    },
    {
      "cell_type": "code",
      "execution_count": null,
      "id": "6M50wEMZSeQq",
      "metadata": {
        "colab": {
          "base_uri": "https://localhost:8080/"
        },
        "id": "6M50wEMZSeQq",
        "outputId": "faf062eb-61c5-4dde-caea-40fece071a7c"
      },
      "outputs": [
        {
          "name": "stderr",
          "output_type": "stream",
          "text": [
            "/tmp/ipython-input-25-3030176148.py:1: FutureWarning: `tokenizer` is deprecated and will be removed in version 5.0.0 for `Seq2SeqTrainer.__init__`. Use `processing_class` instead.\n",
            "  trainer = Seq2SeqTrainer(\n"
          ]
        }
      ],
      "source": [
        "trainer = Seq2SeqTrainer(\n",
        "    model=model,\n",
        "    args=training_args,\n",
        "    train_dataset=tokenized_dataset[\"train\"],\n",
        "    eval_dataset=tokenized_dataset[\"validation\"],\n",
        "    tokenizer=tokenizer,\n",
        "    data_collator=data_collator,\n",
        "    compute_metrics=compute_metrics\n",
        ")"
      ]
    },
    {
      "cell_type": "code",
      "execution_count": null,
      "id": "714ec7c1",
      "metadata": {
        "colab": {
          "base_uri": "https://localhost:8080/",
          "height": 413
        },
        "id": "714ec7c1",
        "outputId": "624e5f4c-e86d-48bf-acdf-f447b077aad8"
      },
      "outputs": [
        {
          "data": {
            "text/html": [
              "\n",
              "    <div>\n",
              "      \n",
              "      <progress value='4690' max='4690' style='width:300px; height:20px; vertical-align: middle;'></progress>\n",
              "      [4690/4690 28:10, Epoch 5/5]\n",
              "    </div>\n",
              "    <table border=\"1\" class=\"dataframe\">\n",
              "  <thead>\n",
              " <tr style=\"text-align: left;\">\n",
              "      <th>Step</th>\n",
              "      <th>Training Loss</th>\n",
              "    </tr>\n",
              "  </thead>\n",
              "  <tbody>\n",
              "    <tr>\n",
              "      <td>500</td>\n",
              "      <td>0.891300</td>\n",
              "    </tr>\n",
              "    <tr>\n",
              "      <td>1000</td>\n",
              "      <td>0.685200</td>\n",
              "    </tr>\n",
              "    <tr>\n",
              "      <td>1500</td>\n",
              "      <td>0.528200</td>\n",
              "    </tr>\n",
              "    <tr>\n",
              "      <td>2000</td>\n",
              "      <td>0.500000</td>\n",
              "    </tr>\n",
              "    <tr>\n",
              "      <td>2500</td>\n",
              "      <td>0.398100</td>\n",
              "    </tr>\n",
              "    <tr>\n",
              "      <td>3000</td>\n",
              "      <td>0.364100</td>\n",
              "    </tr>\n",
              "    <tr>\n",
              "      <td>3500</td>\n",
              "      <td>0.297100</td>\n",
              "    </tr>\n",
              "    <tr>\n",
              "      <td>4000</td>\n",
              "      <td>0.263700</td>\n",
              "    </tr>\n",
              "    <tr>\n",
              "      <td>4500</td>\n",
              "      <td>0.229700</td>\n",
              "    </tr>\n",
              "  </tbody>\n",
              "</table><p>"
            ],
            "text/plain": [
              "<IPython.core.display.HTML object>"
            ]
          },
          "metadata": {},
          "output_type": "display_data"
        },
        {
          "data": {
            "text/plain": [
              "TrainOutput(global_step=4690, training_loss=0.45267575229408896, metrics={'train_runtime': 1691.4972, 'train_samples_per_second': 44.339, 'train_steps_per_second': 2.773, 'total_flos': 2.2865117184e+16, 'train_loss': 0.45267575229408896, 'epoch': 5.0})"
            ]
          },
          "execution_count": 26,
          "metadata": {},
          "output_type": "execute_result"
        }
      ],
      "source": [
        "trainer.train()"
      ]
    },
    {
      "cell_type": "code",
      "execution_count": null,
      "id": "wOYRLz5Ayd2z",
      "metadata": {
        "colab": {
          "base_uri": "https://localhost:8080/"
        },
        "id": "wOYRLz5Ayd2z",
        "outputId": "8c2bfe1d-061f-444d-d82b-e1521a4fbb1b"
      },
      "outputs": [
        {
          "name": "stdout",
          "output_type": "stream",
          "text": [
            "1500\n"
          ]
        }
      ],
      "source": [
        "print(len(tokenized_dataset[\"validation\"]))"
      ]
    },
    {
      "cell_type": "code",
      "execution_count": null,
      "id": "zzcd-cQ3qGzp",
      "metadata": {
        "colab": {
          "base_uri": "https://localhost:8080/",
          "height": 74
        },
        "id": "zzcd-cQ3qGzp",
        "outputId": "8a8aa006-1e0d-4b6e-fe7f-2148a3a920f2"
      },
      "outputs": [
        {
          "data": {
            "text/html": [],
            "text/plain": [
              "<IPython.core.display.HTML object>"
            ]
          },
          "metadata": {},
          "output_type": "display_data"
        },
        {
          "name": "stdout",
          "output_type": "stream",
          "text": [
            "예측 샘플: ['더불어민주당 이해찬 대표가 기자간담회를 열고 조국 전 법무부 장관 사태와 관련하여 \"국민 여러분께 매우 송', '탈원전 정책에서 비롯된 한국전력의 경영 부담이 결국 전기료 인상을 초래하게 되었는데,', '북한이 그제 금강산국제관광국 명의로 통일부와 현대아산에 통지문을 보내 금강산관광', '지난달 한국의 소비자물가상승률이 경제협력개발기구(OECD) 회원국 중 가장 낮은 수', '김종갑 한국전력 사장이 각종 전기료 특례 할인을 모두 폐지하고 전기요금 원가 공개']\n",
            "정답 샘플: ['이해찬 대표가 조국 사태와 관련 송구한 입장 표명이 과감한 인적 쇄신으로 이어져야 한다.', '탈원전 정책에서 비롯된 한국전력의 경영 악화가 결국 전기료 인상이라는 결과를 낳아 \"탈원전으로 전기료 인상은 없다\"고 공언한 정부는 한전의 앞날과 더 늘어날 국민 부담을 고민하고 이제라도 탈원전 속도를 조절하면서 무엇이 옳은지 냉정히 따져야 한다.', '북한이 통일부와 현대아산에 금강산 관광 시설 철거와 관련하여 문서 교환 방식의 협의 주장에 대해,  북한에 대해 협의없는 철거는 불수용을 강조하며,  잔여 독점 사업권 유효기간인 30년간 우리 국민과 기업의 재산권을 철저히 수호해야 한다.', 'OECD가 집계한 소비자물가 통게에서 9월 한국 상승률은 전년 동월 대비 -0.4%로 OECD 회원국 가운데 최저인 가운데, 이것은 물가하락과 수요위축에 따른 생산 및 투자 감소, 경제성장률 추락 등으로 이어지는 디플레에 대한 경고이며 디플레 위기에 대한 상황인식이 객관적이고 경기를 반등시키기 위하여 조속한 대책이 필요하다', '김종갑 한국전력 사장이 1조 1천억원 규모의 전기료 특례 할인 폐지 및 전기요금 원가 공개 방안을 추진하겠다고 밝힌 가운데, 이는 탈원전 정책에 따른 부담을 감내하기 어려워 전기료 인상 카드를 내민 것으로 결과적으로 정부는 탈원전을 폐기해야 한다.']\n"
          ]
        }
      ],
      "source": [
        "trainer.compute_metrics = None\n",
        "preds = trainer.predict(tokenized_dataset[\"validation\"])\n",
        "\n",
        "decoded_preds = tokenizer.batch_decode(preds.predictions, skip_special_tokens=True)\n",
        "decoded_labels = tokenizer.batch_decode(preds.label_ids, skip_special_tokens=True)\n",
        "\n",
        "# 디코딩 결과 출력\n",
        "print(\"예측 샘플:\", decoded_preds[:5])\n",
        "print(\"정답 샘플:\", decoded_labels[:5])"
      ]
    },
    {
      "cell_type": "code",
      "execution_count": null,
      "id": "5nRBuje0zGw9",
      "metadata": {
        "colab": {
          "base_uri": "https://localhost:8080/"
        },
        "id": "5nRBuje0zGw9",
        "outputId": "b479e306-93d7-49e7-851e-ca90c081c65a"
      },
      "outputs": [
        {
          "name": "stdout",
          "output_type": "stream",
          "text": [
            "원문: 더불어민주당 이해찬 대표가 30 일 오후 국회에서 기자간담회를 열고 조국 전 법무부 장관 사태와 관련해 \"국민 여러분께 매우 송구하다\"고 밝혔다. 더불어민주당 이해찬 대표가 30 일 기자간담회를 열고 '조국 사태'와 관련, \"국민 여러분께 매우 송구하다\"는 입장을 밝혔다. 이 대표는 \"검찰 개혁이란 대의에 집중하다 보니, 국민 특히 청년이 느꼈을 불공정에 대한 상대적 박탈감, 좌절감을 깊이 있게 헤아리지 못했다\"며 \"여당 대표로서 무거운 책임감을 느낀다\"고 머리를 숙였다. 조국 전 법무부 장관이 14 일 사퇴한 이후 이 대표가 당 \n",
            "정답 요약: 이해찬 대표가 조국 사태와 관련 송구한 입장 표명이 과감한 인적 쇄신으로 이어져야 한다.\n",
            "생성 요약: 더불어민주당 이해찬 대표가 30 일 기자간담회를 열고 조국 전 법무부 장관 사태와 관련해 \"국민 여러분께 매우 송구하다\"는 입장을 밝히며 당 안팎의 쇄신 요구에 대해 구체적 플랜을 제시하지 못해 여전히 안이하다는 지적을 받고 있다.\n"
          ]
        }
      ],
      "source": [
        "sample = dataset[\"validation\"][0]\n",
        "input_text = sample[\"text\"]\n",
        "\n",
        "inputs = tokenizer(input_text, return_tensors=\"pt\", truncation=True, max_length=512).to(model.device)\n",
        "output_ids = model.generate(inputs[\"input_ids\"], max_length=128, num_beams=4)\n",
        "summary = tokenizer.decode(output_ids[0], skip_special_tokens=True)\n",
        "\n",
        "print(\"원문:\", input_text[:300])\n",
        "print(\"정답 요약:\", sample[\"summary\"])\n",
        "print(\"생성 요약:\", summary)"
      ]
    },
    {
      "cell_type": "code",
      "execution_count": null,
      "id": "1RyRvgds1A8X",
      "metadata": {
        "colab": {
          "base_uri": "https://localhost:8080/",
          "height": 311
        },
        "id": "1RyRvgds1A8X",
        "outputId": "593aee4e-aede-4d80-dd25-abb8c43dc13b"
      },
      "outputs": [
        {
          "data": {
            "text/html": [],
            "text/plain": [
              "<IPython.core.display.HTML object>"
            ]
          },
          "metadata": {},
          "output_type": "display_data"
        },
        {
          "name": "stderr",
          "output_type": "stream",
          "text": [
            "100%|██████████| 1500/1500 [03:57<00:00,  6.30it/s]\n"
          ]
        },
        {
          "data": {
            "application/vnd.google.colaboratory.intrinsic+json": {
              "summary": "{\n  \"name\": \"df\",\n  \"rows\": 1500,\n  \"fields\": [\n    {\n      \"column\": \"prediction\",\n      \"properties\": {\n        \"dtype\": \"string\",\n        \"num_unique_values\": 1487,\n        \"samples\": [\n          \"\\ubc15\\ubbfc\\uc601\\uc740 '\\uadf8\\ub140\\uc758 \\uc0ac\\uc0dd\\ud65c' \\uccab \\ubc29\\uc1a1\\uc744 \\uae30\\ub150\\ud558\\uc5ec \\ucd2c\\uc601\\uc7a5\\uc5d0\\uc11c \\ubd84\\uc704\\uae30 \\uba54\\uc774\\ucee4 \\uc5ed\\ud560\\uc744 \\ud558\\uba70\",\n          \"\\ub300\\uad6c \\uc9c0\\uc5ed\\uc7ac\\ub2e8\\uc740 4\\uc6d4 27\\uc77c\\ubd80\\ud130 8\\uc6d4 25\\uc77c\\uae4c\\uc9c0 \\ub300\\uad6c\\uc9c0\\uc5ed \\ud65c\\ub3d9\\ud55c \\ubb38\\ud559\\uc778\\ub4e4\\uc744 \\uc911\\uc2ec\\uc73c\\ub85c \\uc9c0\\uc5ed \\ubb38\\ud559\",\n          \"\\uc7ac\\uc815 \\uc801\\uc790\\uac00 \\ucee4\\uc9c0\\uc790 \\uc815\\ubd80\\ub294 \\uc9c0\\ucd9c\\ub9cc \\ub298\\ub9b0 \\ud0d3\\uc5d0 \\uc801\\uc790\\uac00 \\ucee4\\uc84c\\ub2e4\\uace0 \\ud558\\ub294\\ub370 \\ubcf5\\uc9c0\\ub97c \\uc55e\\uc138\\uc6cc\"\n        ],\n        \"semantic_type\": \"\",\n        \"description\": \"\"\n      }\n    },\n    {\n      \"column\": \"reference\",\n      \"properties\": {\n        \"dtype\": \"string\",\n        \"num_unique_values\": 1500,\n        \"samples\": [\n          \"\\uc0b0\\uc5c5\\uc548\\uc804\\ubcf4\\uac74\\ubc95(\\uc0b0\\uc548\\ubc95) \\uc804\\ubd80\\uac1c\\uc815\\ubc95\\ub960\\uc740 \\uad6d\\ud68c \\ubcf8\\ud68c\\uc758\\ub97c \\ud1b5\\uacfc\\ud588\\uc9c0\\ub9cc, \\ubc95\\uc548\\uc774 \\uba70\\uce60 \\ub9cc\\uc5d0 \\uc804\\uaca9 \\ud1b5\\uacfc\\ub418\\uc5b4 \\ubc00\\uc2e4 \\uc878\\uc18d\\ud589\\uc815\\uc774\\ub780  \\ub17c\\ub780\\uc774 \\ub192\\uc544\\uc84c\\uace0, \\uc5ec\\uae30\\uc5d0 \\ub354\\ud574 \\ucd5c\\uadfc\\uc5d4 \\uacfc\\ub85c\\uc0ac \\ubc29\\uc9c0\\ubc95\\uc758 \\uc878\\uc18d \\uc81c\\uc815 \\uac00\\ub2a5\\uc131\\uae4c\\uc9c0 \\ub098\\uc624\\uace0 \\uc788\\uc73c\\uba70, \\ud55c\\ud3b8 \\uacfc\\ub85c\\uc0ac \\ubc29\\uc9c0\\ubc95\\uc774 \\uc81c\\uc815\\ub418\\uba74 \\ud0c4\\ub825\\uadfc\\ub85c\\uc81c \\ud655\\ub300 \\uc790\\uccb4\\uac00 \\ubb34\\uc758\\ubbf8\\ud574\\uc9c8 \\uc218\\ub3c4 \\uc788\\ub2e4\\ub294 \\uc8fc\\uc7a5\\ub3c4 \\uc81c\\uae30\\ub418\\uace0 \\uc788\\ub2e4.\",\n          \"\\uae08\\ud638\\uc544\\uc2dc\\uc544\\ub098\\uadf8\\ub8f9\\uc774 \\uc0b0\\uc5c5\\uc740\\ud589\\uc5d0 \\uc81c\\ucd9c\\ud55c \\uc790\\uad6c\\uacc4\\ud68d\\uc774 \\ud1f4\\uc9dc\\ub97c \\ub9de\\uc558\\ub2e4\\ub294 \\uc18c\\uc2dd\\uc5d0\\ub3c4 11\\uc77c \\uc8fc\\uac00\\uac00 \\uc77c\\uc81c\\ud788 \\uc0c1\\uc2b9\\ud55c \\uac00\\uc6b4\\ub370, \\ucd5c\\uace0\\uc6b4 \\ud55c\\uad6d\\ud22c\\uc790\\uc99d\\uad8c \\uc5f0\\uad6c\\uc6d0\\uc740 \\uc774\\uc5d0 \\\"\\uae08\\ud638\\uadf8\\ub8f9\\uc758 \\uc774\\ubc88 \\uacc4\\ud68d \\uc2e4\\ud6a8\\uc131\\uc5d0 \\ub300\\ud55c \\uc758\\uad6c\\uc2ec\\uc740 \\uc544\\uc9c1 \\ud574\\uc18c\\ub418\\uc9c0 \\uc54a\\uc558\\ub2e4\\\"\\uace0 \\ub0a0\\uce74\\ub86d\\uac8c \\uc9c0\\uc801\\ud588\\ub2e4.\",\n          \"\\ud55c\\ub77c\\uc0b0 \\uad6c\\uc0c1\\ub098\\ubb34 \\uc232\\uc774 \\ud06c\\uac8c \\uc904\\uc5b4\\ub4e4\\uace0 \\uc788\\ub294\\ub370 \\uc774\\uc5d0 \\ub300\\ud55c \\uc2e4\\uc9c8\\uc801\\uc778 \\uc608\\ubc29\\ub300\\uc548\\uc774 \\ub9c8\\ub828\\ub418\\uc9c0 \\uc54a\\uc73c\\uba74 \\uba78\\uc885\\uc744 \\uac71\\uc815\\ud574\\uc57c \\ud560 \\uc0c1\\ud669\\uc774 \\ub2e5\\uce60\\uac83\\uc774\\ub2c8 \\uc9d1\\ub2e8\\uace0\\uc0ac\\uc758 \\uc6d0\\uc778\\uc744 \\ucc3e\\ub294 \\ub4f1 \\uad6c\\uc0c1\\ub098\\ubb34 \\ubcf4\\uc804\\ub300\\ucc45\\uc744 \\uc11c\\ub458\\ub7ec\\uc57c \\ud560 \\uac83\\uc774\\ub2e4.\"\n        ],\n        \"semantic_type\": \"\",\n        \"description\": \"\"\n      }\n    },\n    {\n      \"column\": \"rougeL\",\n      \"properties\": {\n        \"dtype\": \"number\",\n        \"std\": 34.02833482044709,\n        \"min\": 0.0,\n        \"max\": 100.0,\n        \"num_unique_values\": 26,\n        \"samples\": [\n          57.1429,\n          20.0,\n          0.0\n        ],\n        \"semantic_type\": \"\",\n        \"description\": \"\"\n      }\n    }\n  ]\n}",
              "type": "dataframe",
              "variable_name": "df"
            },
            "text/html": [
              "\n",
              "  <div id=\"df-4df4d331-cf28-47fb-a9f9-9db885ab9a60\" class=\"colab-df-container\">\n",
              "    <div>\n",
              "<style scoped>\n",
              "    .dataframe tbody tr th:only-of-type {\n",
              "        vertical-align: middle;\n",
              "    }\n",
              "\n",
              "    .dataframe tbody tr th {\n",
              "        vertical-align: top;\n",
              "    }\n",
              "\n",
              "    .dataframe thead th {\n",
              "        text-align: right;\n",
              "    }\n",
              "</style>\n",
              "<table border=\"1\" class=\"dataframe\">\n",
              "  <thead>\n",
              "    <tr style=\"text-align: right;\">\n",
              "      <th></th>\n",
              "      <th>prediction</th>\n",
              "      <th>reference</th>\n",
              "      <th>rougeL</th>\n",
              "    </tr>\n",
              "  </thead>\n",
              "  <tbody>\n",
              "    <tr>\n",
              "      <th>0</th>\n",
              "      <td>더불어민주당 이해찬 대표가 기자간담회를 열고 조국 전 법무부 장관 사태와 관련하여 ...</td>\n",
              "      <td>이해찬 대표가 조국 사태와 관련 송구한 입장 표명이 과감한 인적 쇄신으로 이어져야 한다.</td>\n",
              "      <td>0.0000</td>\n",
              "    </tr>\n",
              "    <tr>\n",
              "      <th>1</th>\n",
              "      <td>탈원전 정책에서 비롯된 한국전력의 경영 부담이 결국 전기료 인상을 초래하게 되었는데,</td>\n",
              "      <td>탈원전 정책에서 비롯된 한국전력의 경영 악화가 결국 전기료 인상이라는 결과를 낳아 ...</td>\n",
              "      <td>0.0000</td>\n",
              "    </tr>\n",
              "    <tr>\n",
              "      <th>2</th>\n",
              "      <td>북한이 그제 금강산국제관광국 명의로 통일부와 현대아산에 통지문을 보내 금강산관광</td>\n",
              "      <td>북한이 통일부와 현대아산에 금강산 관광 시설 철거와 관련하여 문서 교환 방식의 협의...</td>\n",
              "      <td>0.0000</td>\n",
              "    </tr>\n",
              "    <tr>\n",
              "      <th>3</th>\n",
              "      <td>지난달 한국의 소비자물가상승률이 경제협력개발기구(OECD) 회원국 중 가장 낮은 수</td>\n",
              "      <td>OECD가 집계한 소비자물가 통게에서 9월 한국 상승률은 전년 동월 대비 -0.4%...</td>\n",
              "      <td>33.3333</td>\n",
              "    </tr>\n",
              "    <tr>\n",
              "      <th>4</th>\n",
              "      <td>김종갑 한국전력 사장이 각종 전기료 특례 할인을 모두 폐지하고 전기요금 원가 공개</td>\n",
              "      <td>김종갑 한국전력 사장이 1조 1천억원 규모의 전기료 특례 할인 폐지 및 전기요금 원...</td>\n",
              "      <td>0.0000</td>\n",
              "    </tr>\n",
              "  </tbody>\n",
              "</table>\n",
              "</div>\n",
              "    <div class=\"colab-df-buttons\">\n",
              "\n",
              "  <div class=\"colab-df-container\">\n",
              "    <button class=\"colab-df-convert\" onclick=\"convertToInteractive('df-4df4d331-cf28-47fb-a9f9-9db885ab9a60')\"\n",
              "            title=\"Convert this dataframe to an interactive table.\"\n",
              "            style=\"display:none;\">\n",
              "\n",
              "  <svg xmlns=\"http://www.w3.org/2000/svg\" height=\"24px\" viewBox=\"0 -960 960 960\">\n",
              "    <path d=\"M120-120v-720h720v720H120Zm60-500h600v-160H180v160Zm220 220h160v-160H400v160Zm0 220h160v-160H400v160ZM180-400h160v-160H180v160Zm440 0h160v-160H620v160ZM180-180h160v-160H180v160Zm440 0h160v-160H620v160Z\"/>\n",
              "  </svg>\n",
              "    </button>\n",
              "\n",
              "  <style>\n",
              "    .colab-df-container {\n",
              "      display:flex;\n",
              "      gap: 12px;\n",
              "    }\n",
              "\n",
              "    .colab-df-convert {\n",
              "      background-color: #E8F0FE;\n",
              "      border: none;\n",
              "      border-radius: 50%;\n",
              "      cursor: pointer;\n",
              "      display: none;\n",
              "      fill: #1967D2;\n",
              "      height: 32px;\n",
              "      padding: 0 0 0 0;\n",
              "      width: 32px;\n",
              "    }\n",
              "\n",
              "    .colab-df-convert:hover {\n",
              "      background-color: #E2EBFA;\n",
              "      box-shadow: 0px 1px 2px rgba(60, 64, 67, 0.3), 0px 1px 3px 1px rgba(60, 64, 67, 0.15);\n",
              "      fill: #174EA6;\n",
              "    }\n",
              "\n",
              "    .colab-df-buttons div {\n",
              "      margin-bottom: 4px;\n",
              "    }\n",
              "\n",
              "    [theme=dark] .colab-df-convert {\n",
              "      background-color: #3B4455;\n",
              "      fill: #D2E3FC;\n",
              "    }\n",
              "\n",
              "    [theme=dark] .colab-df-convert:hover {\n",
              "      background-color: #434B5C;\n",
              "      box-shadow: 0px 1px 3px 1px rgba(0, 0, 0, 0.15);\n",
              "      filter: drop-shadow(0px 1px 2px rgba(0, 0, 0, 0.3));\n",
              "      fill: #FFFFFF;\n",
              "    }\n",
              "  </style>\n",
              "\n",
              "    <script>\n",
              "      const buttonEl =\n",
              "        document.querySelector('#df-4df4d331-cf28-47fb-a9f9-9db885ab9a60 button.colab-df-convert');\n",
              "      buttonEl.style.display =\n",
              "        google.colab.kernel.accessAllowed ? 'block' : 'none';\n",
              "\n",
              "      async function convertToInteractive(key) {\n",
              "        const element = document.querySelector('#df-4df4d331-cf28-47fb-a9f9-9db885ab9a60');\n",
              "        const dataTable =\n",
              "          await google.colab.kernel.invokeFunction('convertToInteractive',\n",
              "                                                    [key], {});\n",
              "        if (!dataTable) return;\n",
              "\n",
              "        const docLinkHtml = 'Like what you see? Visit the ' +\n",
              "          '<a target=\"_blank\" href=https://colab.research.google.com/notebooks/data_table.ipynb>data table notebook</a>'\n",
              "          + ' to learn more about interactive tables.';\n",
              "        element.innerHTML = '';\n",
              "        dataTable['output_type'] = 'display_data';\n",
              "        await google.colab.output.renderOutput(dataTable, element);\n",
              "        const docLink = document.createElement('div');\n",
              "        docLink.innerHTML = docLinkHtml;\n",
              "        element.appendChild(docLink);\n",
              "      }\n",
              "    </script>\n",
              "  </div>\n",
              "\n",
              "\n",
              "    <div id=\"df-4d1b1378-9680-4a7b-9177-e11e27970a28\">\n",
              "      <button class=\"colab-df-quickchart\" onclick=\"quickchart('df-4d1b1378-9680-4a7b-9177-e11e27970a28')\"\n",
              "                title=\"Suggest charts\"\n",
              "                style=\"display:none;\">\n",
              "\n",
              "<svg xmlns=\"http://www.w3.org/2000/svg\" height=\"24px\"viewBox=\"0 0 24 24\"\n",
              "     width=\"24px\">\n",
              "    <g>\n",
              "        <path d=\"M19 3H5c-1.1 0-2 .9-2 2v14c0 1.1.9 2 2 2h14c1.1 0 2-.9 2-2V5c0-1.1-.9-2-2-2zM9 17H7v-7h2v7zm4 0h-2V7h2v10zm4 0h-2v-4h2v4z\"/>\n",
              "    </g>\n",
              "</svg>\n",
              "      </button>\n",
              "\n",
              "<style>\n",
              "  .colab-df-quickchart {\n",
              "      --bg-color: #E8F0FE;\n",
              "      --fill-color: #1967D2;\n",
              "      --hover-bg-color: #E2EBFA;\n",
              "      --hover-fill-color: #174EA6;\n",
              "      --disabled-fill-color: #AAA;\n",
              "      --disabled-bg-color: #DDD;\n",
              "  }\n",
              "\n",
              "  [theme=dark] .colab-df-quickchart {\n",
              "      --bg-color: #3B4455;\n",
              "      --fill-color: #D2E3FC;\n",
              "      --hover-bg-color: #434B5C;\n",
              "      --hover-fill-color: #FFFFFF;\n",
              "      --disabled-bg-color: #3B4455;\n",
              "      --disabled-fill-color: #666;\n",
              "  }\n",
              "\n",
              "  .colab-df-quickchart {\n",
              "    background-color: var(--bg-color);\n",
              "    border: none;\n",
              "    border-radius: 50%;\n",
              "    cursor: pointer;\n",
              "    display: none;\n",
              "    fill: var(--fill-color);\n",
              "    height: 32px;\n",
              "    padding: 0;\n",
              "    width: 32px;\n",
              "  }\n",
              "\n",
              "  .colab-df-quickchart:hover {\n",
              "    background-color: var(--hover-bg-color);\n",
              "    box-shadow: 0 1px 2px rgba(60, 64, 67, 0.3), 0 1px 3px 1px rgba(60, 64, 67, 0.15);\n",
              "    fill: var(--button-hover-fill-color);\n",
              "  }\n",
              "\n",
              "  .colab-df-quickchart-complete:disabled,\n",
              "  .colab-df-quickchart-complete:disabled:hover {\n",
              "    background-color: var(--disabled-bg-color);\n",
              "    fill: var(--disabled-fill-color);\n",
              "    box-shadow: none;\n",
              "  }\n",
              "\n",
              "  .colab-df-spinner {\n",
              "    border: 2px solid var(--fill-color);\n",
              "    border-color: transparent;\n",
              "    border-bottom-color: var(--fill-color);\n",
              "    animation:\n",
              "      spin 1s steps(1) infinite;\n",
              "  }\n",
              "\n",
              "  @keyframes spin {\n",
              "    0% {\n",
              "      border-color: transparent;\n",
              "      border-bottom-color: var(--fill-color);\n",
              "      border-left-color: var(--fill-color);\n",
              "    }\n",
              "    20% {\n",
              "      border-color: transparent;\n",
              "      border-left-color: var(--fill-color);\n",
              "      border-top-color: var(--fill-color);\n",
              "    }\n",
              "    30% {\n",
              "      border-color: transparent;\n",
              "      border-left-color: var(--fill-color);\n",
              "      border-top-color: var(--fill-color);\n",
              "      border-right-color: var(--fill-color);\n",
              "    }\n",
              "    40% {\n",
              "      border-color: transparent;\n",
              "      border-right-color: var(--fill-color);\n",
              "      border-top-color: var(--fill-color);\n",
              "    }\n",
              "    60% {\n",
              "      border-color: transparent;\n",
              "      border-right-color: var(--fill-color);\n",
              "    }\n",
              "    80% {\n",
              "      border-color: transparent;\n",
              "      border-right-color: var(--fill-color);\n",
              "      border-bottom-color: var(--fill-color);\n",
              "    }\n",
              "    90% {\n",
              "      border-color: transparent;\n",
              "      border-bottom-color: var(--fill-color);\n",
              "    }\n",
              "  }\n",
              "</style>\n",
              "\n",
              "      <script>\n",
              "        async function quickchart(key) {\n",
              "          const quickchartButtonEl =\n",
              "            document.querySelector('#' + key + ' button');\n",
              "          quickchartButtonEl.disabled = true;  // To prevent multiple clicks.\n",
              "          quickchartButtonEl.classList.add('colab-df-spinner');\n",
              "          try {\n",
              "            const charts = await google.colab.kernel.invokeFunction(\n",
              "                'suggestCharts', [key], {});\n",
              "          } catch (error) {\n",
              "            console.error('Error during call to suggestCharts:', error);\n",
              "          }\n",
              "          quickchartButtonEl.classList.remove('colab-df-spinner');\n",
              "          quickchartButtonEl.classList.add('colab-df-quickchart-complete');\n",
              "        }\n",
              "        (() => {\n",
              "          let quickchartButtonEl =\n",
              "            document.querySelector('#df-4d1b1378-9680-4a7b-9177-e11e27970a28 button');\n",
              "          quickchartButtonEl.style.display =\n",
              "            google.colab.kernel.accessAllowed ? 'block' : 'none';\n",
              "        })();\n",
              "      </script>\n",
              "    </div>\n",
              "\n",
              "    </div>\n",
              "  </div>\n"
            ],
            "text/plain": [
              "                                          prediction  \\\n",
              "0  더불어민주당 이해찬 대표가 기자간담회를 열고 조국 전 법무부 장관 사태와 관련하여 ...   \n",
              "1    탈원전 정책에서 비롯된 한국전력의 경영 부담이 결국 전기료 인상을 초래하게 되었는데,   \n",
              "2       북한이 그제 금강산국제관광국 명의로 통일부와 현대아산에 통지문을 보내 금강산관광   \n",
              "3     지난달 한국의 소비자물가상승률이 경제협력개발기구(OECD) 회원국 중 가장 낮은 수   \n",
              "4      김종갑 한국전력 사장이 각종 전기료 특례 할인을 모두 폐지하고 전기요금 원가 공개   \n",
              "\n",
              "                                           reference   rougeL  \n",
              "0  이해찬 대표가 조국 사태와 관련 송구한 입장 표명이 과감한 인적 쇄신으로 이어져야 한다.   0.0000  \n",
              "1  탈원전 정책에서 비롯된 한국전력의 경영 악화가 결국 전기료 인상이라는 결과를 낳아 ...   0.0000  \n",
              "2  북한이 통일부와 현대아산에 금강산 관광 시설 철거와 관련하여 문서 교환 방식의 협의...   0.0000  \n",
              "3  OECD가 집계한 소비자물가 통게에서 9월 한국 상승률은 전년 동월 대비 -0.4%...  33.3333  \n",
              "4  김종갑 한국전력 사장이 1조 1천억원 규모의 전기료 특례 할인 폐지 및 전기요금 원...   0.0000  "
            ]
          },
          "execution_count": 47,
          "metadata": {},
          "output_type": "execute_result"
        }
      ],
      "source": [
        "# 예측 결과\n",
        "preds = trainer.predict(tokenized_dataset[\"validation\"])\n",
        "decoded_preds = tokenizer.batch_decode(preds.predictions, skip_special_tokens=True)\n",
        "decoded_labels = tokenizer.batch_decode(preds.label_ids, skip_special_tokens=True)\n",
        "\n",
        "rouge = evaluate.load(\"rouge\")\n",
        "rows = []\n",
        "\n",
        "for pred, label in tqdm(zip(decoded_preds, decoded_labels), total=len(decoded_preds)):\n",
        "    if not pred.strip() or not label.strip():\n",
        "        continue\n",
        "\n",
        "    # .fmeasure 없이 직접 float로 사용\n",
        "    rouge_l = rouge.compute(\n",
        "        predictions=[pred],\n",
        "        references=[label],\n",
        "        use_stemmer=True\n",
        "    )[\"rougeL\"] * 100\n",
        "\n",
        "    rows.append({\n",
        "        \"prediction\": pred,\n",
        "        \"reference\": label,\n",
        "        \"rougeL\": round(rouge_l, 4)\n",
        "    })\n",
        "\n",
        "df = pd.DataFrame(rows)\n",
        "df.head()"
      ]
    },
    {
      "cell_type": "code",
      "execution_count": null,
      "id": "u3VIJciI1Qaj",
      "metadata": {
        "colab": {
          "base_uri": "https://localhost:8080/",
          "height": 607
        },
        "id": "u3VIJciI1Qaj",
        "outputId": "7e23e6ba-0b9a-4f4b-d55b-6f7e2a44e500"
      },
      "outputs": [
        {
          "data": {
            "image/png": "[encoded data removed]",
            "text/plain": [
              "<Figure size 600x600 with 1 Axes>"
            ]
          },
          "metadata": {},
          "output_type": "display_data"
        }
      ],
      "source": [
        "plt.figure(figsize=(6, 6))\n",
        "# metrics = [\"rougeL\", \"bleu\", \"meteor\", \"bertscore_f1\"]\n",
        "metrics = [\"rougeL\"]\n",
        "\n",
        "for i, metric in enumerate(metrics, 1):\n",
        "    # plt.subplot(2, 2, i)\n",
        "    sns.histplot(df[metric], bins=30, kde=True, color=\"skyblue\")\n",
        "    plt.title(f\"Distribution of {metric.upper()}\")\n",
        "    plt.xlabel(metric)\n",
        "    plt.ylabel(\"Frequency\")\n",
        "\n",
        "plt.tight_layout()\n",
        "plt.show()"
      ]
    },
    {
      "cell_type": "markdown",
      "id": "3dd243f8",
      "metadata": {},
      "source": [
        "### 결과 인사이트\n",
        "**평균 성능 낮음** \n",
        "- 많은 샘플이 낮은 점수를 기록 → 전반적인 요약 품질이 낮음\n",
        "\n",
        "**편향성** \n",
        "- 데이터나 모델이 특정 유형의 문서 요약에만 잘 동작하고 있음\n",
        "\n",
        "**모델 일반화 부족** \n",
        "- 다양한 유형의 문서에서 일관된 성능을 보이지 못함\n",
        "\n",
        "**정답 요약과의 거리 큼** \n",
        "- 모델이 생성한 요약이 실제 정답과 구조/표현이 많이 다름\n",
        "\n",
        "**후처리 또는 전처리 문제 가능성** \n",
        "- 잘림, padding 오류, 특수문자 등으로 rouge가 0이 되는 사례 발생 가능"
      ]
    },
    {
      "cell_type": "markdown",
      "id": "401cff1e",
      "metadata": {},
      "source": [
        "### 추후 개선 과제\n",
        "1. **문서 유형별 Fine-tuning 실험** : 같은 모델이라도 도메인에 따라 요약 방식이 달라지므로 실제 성능이 개선될 가능성이 높음\n",
        "2. **평가 지표 다변화** : ROUGE만으로는 의미 보존 여부 판단이 어려움 → BERTScore, BLEURT 등 의미 기반 지표를 추가\n",
        "3. **하이퍼파라미터 및 자원 최적화** : 모델 사이즈 축소(예: distilled KoBART)도 고려하여 학습 속도 및 자원 효율 개선"
      ]
    },
    {
      "cell_type": "markdown",
      "id": "zyzrKzz15bop",
      "metadata": {
        "id": "zyzrKzz15bop"
      },
      "source": [
        "# 요약 결과 확인"
      ]
    },
    {
      "cell_type": "code",
      "execution_count": null,
      "id": "AZp64fg81Qov",
      "metadata": {
        "colab": {
          "base_uri": "https://localhost:8080/"
        },
        "id": "AZp64fg81Qov",
        "outputId": "d92a04fc-3ee0-4bb0-b8d8-e79032bc236d"
      },
      "outputs": [
        {
          "name": "stdout",
          "output_type": "stream",
          "text": [
            "원문: '해양의 축적, 미래를 쌓다'를 주제로 사흘간 열린 제13 회 세계해양포럼은 해양 분야 세계 석학들의 지식포럼이었다. 문재인 대통령이 \"첨단 기술이 넘쳐나는 4 차 산업혁명 시대에도 가장 중요한 문제는 인간 경험과 지혜의 축적\"이라고 서신에서 밝힌 것처럼 석학들이 제시한 대안은 불확실성 위기에서 항로를 알려주는 나침반이 되기에 충분했다. 1 일 마지막 세션에선 기조 강연자인 아지즈 바카스를 비롯해 각 분야에서 대안을 내놨던 토론자가 한자리에 모일 예정이라니 이번 포럼의 정점이 될 것으로 보인다. 현장 분위기도 예상을 뛰어넘었다고 한 ...\n",
            "정답 요약: 제 13회 세계해양포럼에서는 '해양의 축적, 미래를 쌓다.'를 주제로 석학들이 혁신은 도전적 경험의 축적에서 비롯한다는 결론을 도출한 바 혁신의 대안이 부산의 비전으로 연계돼야 할 것이다.\n",
            "생성 요약: '해양의 축적, 미래를 쌓다'를 주제로 사흘간 열린 제13회 세계해양포럼은 불확실성 위기에서 항로를 알려주는 나침반이 되기에 충분했고, 1 일 마지막 세션에선 기조 강연자인 아지즈 바카스를 비롯해 각 분야에서 대안을 내놨던 토론자가 한자리에 모일 예정이라 이번 포럼의 정점이 될 것으로 보인다.\n"
          ]
        }
      ],
      "source": [
        "sample = dataset[\"validation\"][25]\n",
        "input_text = sample[\"text\"]\n",
        "\n",
        "device = model.device  # 모델 디바이스 확인\n",
        "\n",
        "# 입력 토큰 변환 및 디바이스 이동\n",
        "inputs = tokenizer(input_text, return_tensors=\"pt\", max_length=512, truncation=True)\n",
        "input_ids = inputs.input_ids.to(device)\n",
        "\n",
        "# 요약 생성\n",
        "output_ids = model.generate(input_ids, max_length=128, num_beams=4)\n",
        "summary = tokenizer.decode(output_ids[0], skip_special_tokens=True)\n",
        "\n",
        "# 결과 출력\n",
        "print(\"원문:\", input_text[:300], \"...\")\n",
        "print(\"정답 요약:\", sample[\"summary\"])\n",
        "print(\"생성 요약:\", summary)\n"
      ]
    },
    {
      "cell_type": "markdown",
      "id": "dc0df690",
      "metadata": {},
      "source": [
        "# 회고 "
      ]
    },
    {
      "cell_type": "markdown",
      "id": "eeedcf6f",
      "metadata": {},
      "source": [
        "## <어려웠던 점>\n",
        "▶ transformers 버전 이슈로 인해 predict_with_generate, tokenizer 관련 오류 해결에 시간 소요\n",
        "\n",
        "▶ fp16 활성화 시 GPU 자원 부족 → batch size 및 데이터 샘플 수 줄이는 방식으로 해결\n",
        "\n",
        "▶ model_auto 파라미터 관련 오류 → 해결하지 못하여 제외하고 진행\n",
        "\n",
        "▶ KoBART 로딩 오류 (MissingSchema 등) → 허깅페이스 연결 이슈와 캐시 문제를 해결\n"
      ]
    },
    {
      "cell_type": "markdown",
      "id": "454f3d22",
      "metadata": {},
      "source": [
        "## <배운 것>\n",
        "##### ▶ Hugging Face Trainer 구조와 학습 파이프라인에 대한 깊은 이해\n",
        "\n",
        "이번 프로젝트에서 Hugging Face의 Trainer 클래스를 활용해 KoBART 기반 문서 요약 모델을 학습하며, Hugging Face 라이브러리가 제공하는 학습 파이프라인의 강력함과 유연함을 직접 체감했다.\n",
        "\n",
        "Trainer는 단순히 모델을 학습시키는 도구가 아니라, 전체 학습 프로세스를 추상화한 프레임워크로 볼 수 있다. \n",
        "\n",
        "주요 특징은 다음과 같다:\n",
        "- TrainingArguments를 통해 전체 학습 하이퍼파라미터, 로깅 전략, 평가 주기 등을 선언적으로 설정할 수 있다.\n",
        "- Trainer 객체는 model, tokenizer, data_collator, compute_metrics, callback 등 구성요소들을 조립해서, 학습-검증-예측 전과정을 자동으로 처리한다.\n",
        "- 내부적으로 accelerate 패키지를 통해 multi-GPU, mixed-precision(fp16/bf16), gradient accumulation 등의 최적화 기법도 간단히 사용할 수 있다.\n",
        "\n",
        "이 프레임워크의 장점은 복잡한 훈련 로직을 반복 구현하지 않아도 되는 점과, 실험 반복의 효율성이다. 다양한 실험(하이퍼파라미터 튜닝, 데이터 전처리 방식 변경 등)을 일관된 방식으로 시도할 수 있었고, 이는 모델 개발의 생산성을 크게 높여준다.\n",
        "\n",
        "---\n",
        "\n",
        "#### ▶ 문서 요약 평가의 어려움과 ROUGE 지표 해석의 한계\n",
        "요약은 정답이 하나가 아닌 문제다. 같은 내용을 표현하는 방식은 다양하고, ROUGE는 단지 정답 문장과의 표현 유사도만 측정할 뿐이다.\n",
        "\n",
        "예를 들어, 모델이 생성한 요약이 문맥상 적절하고 핵심 정보를 잘 담고 있어도, 정답 요약과 단어 순서나 표현 방식이 다르면 ROUGE-L 점수는 낮게 나올 수 있다. 반대로, 의미가 어긋나도 우연히 단어가 겹치면 점수가 높을 수도 있다.\n",
        "\n",
        "이를 통해 다음과 같은 한계를 실감했다:\n",
        "- ROUGE는 구조적/표현적 유사성은 잘 측정하지만 의미적 유사성은 부족하다.\n",
        "- ROUGE-L 분포를 보면 대부분 0~5 사이에 몰려있어도, 실제 요약이 모두 형편없다고 판단할 수 없다.\n",
        "- 정성 평가나 BERTScore, human evaluation 같은 보완 지표의 필요성을 느꼈다.\n",
        "\n",
        "---\n",
        "\n",
        "#### ▶ 작은 하이퍼파라미터 조정이 큰 메모리 차이를 만든다는 것 \n",
        "학습 중 batch_size, max_length, fp16, eval_steps, predict_with_generate=True 등의 설정을 바꾸는 것만으로도 GPU 메모리 사용량이 크게 변동되었다.\n",
        "\n",
        "대표적인 사례:\n",
        "- predict_with_generate=True → 평가 시 generate()를 호출해 요약을 생성하기 때문에, 메모리 폭증으로 OOM이 자주 발생.\n",
        "- max_length를 512에서 1024로 변경 → 학습 속도 저하와 GPU 사용량 급증\n",
        "- fp16=True는 메모리 최적화에 큰 도움이 되었지만, 일부 환경에서는 mps와 충돌\n",
        "\n",
        "이 과정에서 느낀 점은:\n",
        "- 하이퍼파라미터 하나가 전체 실험 성패를 좌우할 수 있다.\n",
        "- 학습 전 작은 실험(메모리 프로파일링, 샘플 추론 테스트 등)은 필수다.\n",
        "- 로컬 환경의 자원 한계를 명확히 인식하고, 이에 맞는 전략을 설계하는 능력이 중요하다."
      ]
    },
    {
      "cell_type": "code",
      "execution_count": null,
      "id": "c1a76380",
      "metadata": {},
      "outputs": [],
      "source": []
    },
    {
      "cell_type": "code",
      "execution_count": null,
      "id": "b6171334",
      "metadata": {},
      "outputs": [],
      "source": []
    },
    {
      "cell_type": "code",
      "execution_count": null,
      "id": "1f229124",
      "metadata": {},
      "outputs": [],
      "source": []
    },
    {
      "cell_type": "code",
      "execution_count": null,
      "id": "91a61e50",
      "metadata": {},
      "outputs": [],
      "source": []
    }
  ],
  "metadata": {
    "colab": {
      "machine_shape": "hm",
      "provenance": []
    },
    "kernelspec": {
      "display_name": "Python(J_Note)",
      "language": "python",
      "name": "j_note"
    },
    "language_info": {
      "codemirror_mode": {
        "name": "ipython",
        "version": 3
      },
      "file_extension": ".py",
      "mimetype": "text/x-python",
      "name": "python",
      "nbconvert_exporter": "python",
      "pygments_lexer": "ipython3",
      "version": "3.9.21"
    },
    "widgets": {
      "application/vnd.jupyter.widget-state+json": {
        "15750dd34e6a4a269349ac23190b587a": {
          "model_module": "@jupyter-widgets/base",
          "model_module_version": "1.2.0",
          "model_name": "LayoutModel",
          "state": {
            "_model_module": "@jupyter-widgets/base",
            "_model_module_version": "1.2.0",
            "_model_name": "LayoutModel",
            "_view_count": null,
            "_view_module": "@jupyter-widgets/base",
            "_view_module_version": "1.2.0",
            "_view_name": "LayoutView",
            "align_content": null,
            "align_items": null,
            "align_self": null,
            "border": null,
            "bottom": null,
            "display": null,
            "flex": null,
            "flex_flow": null,
            "grid_area": null,
            "grid_auto_columns": null,
            "grid_auto_flow": null,
            "grid_auto_rows": null,
            "grid_column": null,
            "grid_gap": null,
            "grid_row": null,
            "grid_template_areas": null,
            "grid_template_columns": null,
            "grid_template_rows": null,
            "height": null,
            "justify_content": null,
            "justify_items": null,
            "left": null,
            "margin": null,
            "max_height": null,
            "max_width": null,
            "min_height": null,
            "min_width": null,
            "object_fit": null,
            "object_position": null,
            "order": null,
            "overflow": null,
            "overflow_x": null,
            "overflow_y": null,
            "padding": null,
            "right": null,
            "top": null,
            "visibility": null,
            "width": null
          }
        },
        "1be50a0a2de84ddd84d176ef3c4caf4c": {
          "model_module": "@jupyter-widgets/controls",
          "model_module_version": "1.5.0",
          "model_name": "HTMLModel",
          "state": {
            "_dom_classes": [],
            "_model_module": "@jupyter-widgets/controls",
            "_model_module_version": "1.5.0",
            "_model_name": "HTMLModel",
            "_view_count": null,
            "_view_module": "@jupyter-widgets/controls",
            "_view_module_version": "1.5.0",
            "_view_name": "HTMLView",
            "description": "",
            "description_tooltip": null,
            "layout": "IPY_MODEL_2209769f275647e8bf1f1e69762eb943",
            "placeholder": "​",
            "style": "IPY_MODEL_6fd1e859a6264506bfe6eaa3cc1578a0",
            "value": " 15000/15000 [00:09&lt;00:00, 1537.69 examples/s]"
          }
        },
        "1e515e2e64e0418fb6dfe3c1e3526c87": {
          "model_module": "@jupyter-widgets/base",
          "model_module_version": "1.2.0",
          "model_name": "LayoutModel",
          "state": {
            "_model_module": "@jupyter-widgets/base",
            "_model_module_version": "1.2.0",
            "_model_name": "LayoutModel",
            "_view_count": null,
            "_view_module": "@jupyter-widgets/base",
            "_view_module_version": "1.2.0",
            "_view_name": "LayoutView",
            "align_content": null,
            "align_items": null,
            "align_self": null,
            "border": null,
            "bottom": null,
            "display": null,
            "flex": null,
            "flex_flow": null,
            "grid_area": null,
            "grid_auto_columns": null,
            "grid_auto_flow": null,
            "grid_auto_rows": null,
            "grid_column": null,
            "grid_gap": null,
            "grid_row": null,
            "grid_template_areas": null,
            "grid_template_columns": null,
            "grid_template_rows": null,
            "height": null,
            "justify_content": null,
            "justify_items": null,
            "left": null,
            "margin": null,
            "max_height": null,
            "max_width": null,
            "min_height": null,
            "min_width": null,
            "object_fit": null,
            "object_position": null,
            "order": null,
            "overflow": null,
            "overflow_x": null,
            "overflow_y": null,
            "padding": null,
            "right": null,
            "top": null,
            "visibility": null,
            "width": null
          }
        },
        "2209769f275647e8bf1f1e69762eb943": {
          "model_module": "@jupyter-widgets/base",
          "model_module_version": "1.2.0",
          "model_name": "LayoutModel",
          "state": {
            "_model_module": "@jupyter-widgets/base",
            "_model_module_version": "1.2.0",
            "_model_name": "LayoutModel",
            "_view_count": null,
            "_view_module": "@jupyter-widgets/base",
            "_view_module_version": "1.2.0",
            "_view_name": "LayoutView",
            "align_content": null,
            "align_items": null,
            "align_self": null,
            "border": null,
            "bottom": null,
            "display": null,
            "flex": null,
            "flex_flow": null,
            "grid_area": null,
            "grid_auto_columns": null,
            "grid_auto_flow": null,
            "grid_auto_rows": null,
            "grid_column": null,
            "grid_gap": null,
            "grid_row": null,
            "grid_template_areas": null,
            "grid_template_columns": null,
            "grid_template_rows": null,
            "height": null,
            "justify_content": null,
            "justify_items": null,
            "left": null,
            "margin": null,
            "max_height": null,
            "max_width": null,
            "min_height": null,
            "min_width": null,
            "object_fit": null,
            "object_position": null,
            "order": null,
            "overflow": null,
            "overflow_x": null,
            "overflow_y": null,
            "padding": null,
            "right": null,
            "top": null,
            "visibility": null,
            "width": null
          }
        },
        "2aad772753d24b28bea9fa965cdb3a92": {
          "model_module": "@jupyter-widgets/controls",
          "model_module_version": "1.5.0",
          "model_name": "ProgressStyleModel",
          "state": {
            "_model_module": "@jupyter-widgets/controls",
            "_model_module_version": "1.5.0",
            "_model_name": "ProgressStyleModel",
            "_view_count": null,
            "_view_module": "@jupyter-widgets/base",
            "_view_module_version": "1.2.0",
            "_view_name": "StyleView",
            "bar_color": null,
            "description_width": ""
          }
        },
        "37fa953746934bdbaf374424dcf77059": {
          "model_module": "@jupyter-widgets/controls",
          "model_module_version": "1.5.0",
          "model_name": "HBoxModel",
          "state": {
            "_dom_classes": [],
            "_model_module": "@jupyter-widgets/controls",
            "_model_module_version": "1.5.0",
            "_model_name": "HBoxModel",
            "_view_count": null,
            "_view_module": "@jupyter-widgets/controls",
            "_view_module_version": "1.5.0",
            "_view_name": "HBoxView",
            "box_style": "",
            "children": [
              "IPY_MODEL_93bd96779a55401bbc551d4fbf2a645a",
              "IPY_MODEL_b48a1d177154432e984676e06e388272",
              "IPY_MODEL_1be50a0a2de84ddd84d176ef3c4caf4c"
            ],
            "layout": "IPY_MODEL_15750dd34e6a4a269349ac23190b587a"
          }
        },
        "42093cfc16bc41e398f150297457f406": {
          "model_module": "@jupyter-widgets/controls",
          "model_module_version": "1.5.0",
          "model_name": "HTMLModel",
          "state": {
            "_dom_classes": [],
            "_model_module": "@jupyter-widgets/controls",
            "_model_module_version": "1.5.0",
            "_model_name": "HTMLModel",
            "_view_count": null,
            "_view_module": "@jupyter-widgets/controls",
            "_view_module_version": "1.5.0",
            "_view_name": "HTMLView",
            "description": "",
            "description_tooltip": null,
            "layout": "IPY_MODEL_1e515e2e64e0418fb6dfe3c1e3526c87",
            "placeholder": "​",
            "style": "IPY_MODEL_e1e5cbdf7cf94b67a9ea1258cac3b2d0",
            "value": "Map: 100%"
          }
        },
        "424ca599c1cf4c9aa56ff7361619e96f": {
          "model_module": "@jupyter-widgets/controls",
          "model_module_version": "1.5.0",
          "model_name": "ProgressStyleModel",
          "state": {
            "_model_module": "@jupyter-widgets/controls",
            "_model_module_version": "1.5.0",
            "_model_name": "ProgressStyleModel",
            "_view_count": null,
            "_view_module": "@jupyter-widgets/base",
            "_view_module_version": "1.2.0",
            "_view_name": "StyleView",
            "bar_color": null,
            "description_width": ""
          }
        },
        "4b8b17a193314444ae41c5abe6e8f9a6": {
          "model_module": "@jupyter-widgets/controls",
          "model_module_version": "1.5.0",
          "model_name": "HBoxModel",
          "state": {
            "_dom_classes": [],
            "_model_module": "@jupyter-widgets/controls",
            "_model_module_version": "1.5.0",
            "_model_name": "HBoxModel",
            "_view_count": null,
            "_view_module": "@jupyter-widgets/controls",
            "_view_module_version": "1.5.0",
            "_view_name": "HBoxView",
            "box_style": "",
            "children": [
              "IPY_MODEL_42093cfc16bc41e398f150297457f406",
              "IPY_MODEL_d66f5a214a67434ba6d9d25a198e788d",
              "IPY_MODEL_e2c7aa7778064736be29c48e4dfca589"
            ],
            "layout": "IPY_MODEL_efd8e8fcade740caafbeb35b2a5c37f8"
          }
        },
        "4f8d7e0cfed84402843245d800e4adec": {
          "model_module": "@jupyter-widgets/controls",
          "model_module_version": "1.5.0",
          "model_name": "DescriptionStyleModel",
          "state": {
            "_model_module": "@jupyter-widgets/controls",
            "_model_module_version": "1.5.0",
            "_model_name": "DescriptionStyleModel",
            "_view_count": null,
            "_view_module": "@jupyter-widgets/base",
            "_view_module_version": "1.2.0",
            "_view_name": "StyleView",
            "description_width": ""
          }
        },
        "6da7f8ec0a724191926a96e2da792605": {
          "model_module": "@jupyter-widgets/base",
          "model_module_version": "1.2.0",
          "model_name": "LayoutModel",
          "state": {
            "_model_module": "@jupyter-widgets/base",
            "_model_module_version": "1.2.0",
            "_model_name": "LayoutModel",
            "_view_count": null,
            "_view_module": "@jupyter-widgets/base",
            "_view_module_version": "1.2.0",
            "_view_name": "LayoutView",
            "align_content": null,
            "align_items": null,
            "align_self": null,
            "border": null,
            "bottom": null,
            "display": null,
            "flex": null,
            "flex_flow": null,
            "grid_area": null,
            "grid_auto_columns": null,
            "grid_auto_flow": null,
            "grid_auto_rows": null,
            "grid_column": null,
            "grid_gap": null,
            "grid_row": null,
            "grid_template_areas": null,
            "grid_template_columns": null,
            "grid_template_rows": null,
            "height": null,
            "justify_content": null,
            "justify_items": null,
            "left": null,
            "margin": null,
            "max_height": null,
            "max_width": null,
            "min_height": null,
            "min_width": null,
            "object_fit": null,
            "object_position": null,
            "order": null,
            "overflow": null,
            "overflow_x": null,
            "overflow_y": null,
            "padding": null,
            "right": null,
            "top": null,
            "visibility": null,
            "width": null
          }
        },
        "6fd1e859a6264506bfe6eaa3cc1578a0": {
          "model_module": "@jupyter-widgets/controls",
          "model_module_version": "1.5.0",
          "model_name": "DescriptionStyleModel",
          "state": {
            "_model_module": "@jupyter-widgets/controls",
            "_model_module_version": "1.5.0",
            "_model_name": "DescriptionStyleModel",
            "_view_count": null,
            "_view_module": "@jupyter-widgets/base",
            "_view_module_version": "1.2.0",
            "_view_name": "StyleView",
            "description_width": ""
          }
        },
        "77df1a0ab69948eba7a1be7612ebfabd": {
          "model_module": "@jupyter-widgets/controls",
          "model_module_version": "1.5.0",
          "model_name": "DescriptionStyleModel",
          "state": {
            "_model_module": "@jupyter-widgets/controls",
            "_model_module_version": "1.5.0",
            "_model_name": "DescriptionStyleModel",
            "_view_count": null,
            "_view_module": "@jupyter-widgets/base",
            "_view_module_version": "1.2.0",
            "_view_name": "StyleView",
            "description_width": ""
          }
        },
        "8105f33b6c2245779e86a2912bb2ffa6": {
          "model_module": "@jupyter-widgets/base",
          "model_module_version": "1.2.0",
          "model_name": "LayoutModel",
          "state": {
            "_model_module": "@jupyter-widgets/base",
            "_model_module_version": "1.2.0",
            "_model_name": "LayoutModel",
            "_view_count": null,
            "_view_module": "@jupyter-widgets/base",
            "_view_module_version": "1.2.0",
            "_view_name": "LayoutView",
            "align_content": null,
            "align_items": null,
            "align_self": null,
            "border": null,
            "bottom": null,
            "display": null,
            "flex": null,
            "flex_flow": null,
            "grid_area": null,
            "grid_auto_columns": null,
            "grid_auto_flow": null,
            "grid_auto_rows": null,
            "grid_column": null,
            "grid_gap": null,
            "grid_row": null,
            "grid_template_areas": null,
            "grid_template_columns": null,
            "grid_template_rows": null,
            "height": null,
            "justify_content": null,
            "justify_items": null,
            "left": null,
            "margin": null,
            "max_height": null,
            "max_width": null,
            "min_height": null,
            "min_width": null,
            "object_fit": null,
            "object_position": null,
            "order": null,
            "overflow": null,
            "overflow_x": null,
            "overflow_y": null,
            "padding": null,
            "right": null,
            "top": null,
            "visibility": null,
            "width": null
          }
        },
        "8ea682a152a841eab34979873de0ba11": {
          "model_module": "@jupyter-widgets/base",
          "model_module_version": "1.2.0",
          "model_name": "LayoutModel",
          "state": {
            "_model_module": "@jupyter-widgets/base",
            "_model_module_version": "1.2.0",
            "_model_name": "LayoutModel",
            "_view_count": null,
            "_view_module": "@jupyter-widgets/base",
            "_view_module_version": "1.2.0",
            "_view_name": "LayoutView",
            "align_content": null,
            "align_items": null,
            "align_self": null,
            "border": null,
            "bottom": null,
            "display": null,
            "flex": null,
            "flex_flow": null,
            "grid_area": null,
            "grid_auto_columns": null,
            "grid_auto_flow": null,
            "grid_auto_rows": null,
            "grid_column": null,
            "grid_gap": null,
            "grid_row": null,
            "grid_template_areas": null,
            "grid_template_columns": null,
            "grid_template_rows": null,
            "height": null,
            "justify_content": null,
            "justify_items": null,
            "left": null,
            "margin": null,
            "max_height": null,
            "max_width": null,
            "min_height": null,
            "min_width": null,
            "object_fit": null,
            "object_position": null,
            "order": null,
            "overflow": null,
            "overflow_x": null,
            "overflow_y": null,
            "padding": null,
            "right": null,
            "top": null,
            "visibility": null,
            "width": null
          }
        },
        "8ecc186720ae4623a9570cefb127c534": {
          "model_module": "@jupyter-widgets/base",
          "model_module_version": "1.2.0",
          "model_name": "LayoutModel",
          "state": {
            "_model_module": "@jupyter-widgets/base",
            "_model_module_version": "1.2.0",
            "_model_name": "LayoutModel",
            "_view_count": null,
            "_view_module": "@jupyter-widgets/base",
            "_view_module_version": "1.2.0",
            "_view_name": "LayoutView",
            "align_content": null,
            "align_items": null,
            "align_self": null,
            "border": null,
            "bottom": null,
            "display": null,
            "flex": null,
            "flex_flow": null,
            "grid_area": null,
            "grid_auto_columns": null,
            "grid_auto_flow": null,
            "grid_auto_rows": null,
            "grid_column": null,
            "grid_gap": null,
            "grid_row": null,
            "grid_template_areas": null,
            "grid_template_columns": null,
            "grid_template_rows": null,
            "height": null,
            "justify_content": null,
            "justify_items": null,
            "left": null,
            "margin": null,
            "max_height": null,
            "max_width": null,
            "min_height": null,
            "min_width": null,
            "object_fit": null,
            "object_position": null,
            "order": null,
            "overflow": null,
            "overflow_x": null,
            "overflow_y": null,
            "padding": null,
            "right": null,
            "top": null,
            "visibility": null,
            "width": null
          }
        },
        "93bd96779a55401bbc551d4fbf2a645a": {
          "model_module": "@jupyter-widgets/controls",
          "model_module_version": "1.5.0",
          "model_name": "HTMLModel",
          "state": {
            "_dom_classes": [],
            "_model_module": "@jupyter-widgets/controls",
            "_model_module_version": "1.5.0",
            "_model_name": "HTMLModel",
            "_view_count": null,
            "_view_module": "@jupyter-widgets/controls",
            "_view_module_version": "1.5.0",
            "_view_name": "HTMLView",
            "description": "",
            "description_tooltip": null,
            "layout": "IPY_MODEL_8105f33b6c2245779e86a2912bb2ffa6",
            "placeholder": "​",
            "style": "IPY_MODEL_77df1a0ab69948eba7a1be7612ebfabd",
            "value": "Map: 100%"
          }
        },
        "b48a1d177154432e984676e06e388272": {
          "model_module": "@jupyter-widgets/controls",
          "model_module_version": "1.5.0",
          "model_name": "FloatProgressModel",
          "state": {
            "_dom_classes": [],
            "_model_module": "@jupyter-widgets/controls",
            "_model_module_version": "1.5.0",
            "_model_name": "FloatProgressModel",
            "_view_count": null,
            "_view_module": "@jupyter-widgets/controls",
            "_view_module_version": "1.5.0",
            "_view_name": "ProgressView",
            "bar_style": "success",
            "description": "",
            "description_tooltip": null,
            "layout": "IPY_MODEL_8ea682a152a841eab34979873de0ba11",
            "max": 15000,
            "min": 0,
            "orientation": "horizontal",
            "style": "IPY_MODEL_2aad772753d24b28bea9fa965cdb3a92",
            "value": 15000
          }
        },
        "d66f5a214a67434ba6d9d25a198e788d": {
          "model_module": "@jupyter-widgets/controls",
          "model_module_version": "1.5.0",
          "model_name": "FloatProgressModel",
          "state": {
            "_dom_classes": [],
            "_model_module": "@jupyter-widgets/controls",
            "_model_module_version": "1.5.0",
            "_model_name": "FloatProgressModel",
            "_view_count": null,
            "_view_module": "@jupyter-widgets/controls",
            "_view_module_version": "1.5.0",
            "_view_name": "ProgressView",
            "bar_style": "success",
            "description": "",
            "description_tooltip": null,
            "layout": "IPY_MODEL_8ecc186720ae4623a9570cefb127c534",
            "max": 1500,
            "min": 0,
            "orientation": "horizontal",
            "style": "IPY_MODEL_424ca599c1cf4c9aa56ff7361619e96f",
            "value": 1500
          }
        },
        "e1e5cbdf7cf94b67a9ea1258cac3b2d0": {
          "model_module": "@jupyter-widgets/controls",
          "model_module_version": "1.5.0",
          "model_name": "DescriptionStyleModel",
          "state": {
            "_model_module": "@jupyter-widgets/controls",
            "_model_module_version": "1.5.0",
            "_model_name": "DescriptionStyleModel",
            "_view_count": null,
            "_view_module": "@jupyter-widgets/base",
            "_view_module_version": "1.2.0",
            "_view_name": "StyleView",
            "description_width": ""
          }
        },
        "e2c7aa7778064736be29c48e4dfca589": {
          "model_module": "@jupyter-widgets/controls",
          "model_module_version": "1.5.0",
          "model_name": "HTMLModel",
          "state": {
            "_dom_classes": [],
            "_model_module": "@jupyter-widgets/controls",
            "_model_module_version": "1.5.0",
            "_model_name": "HTMLModel",
            "_view_count": null,
            "_view_module": "@jupyter-widgets/controls",
            "_view_module_version": "1.5.0",
            "_view_name": "HTMLView",
            "description": "",
            "description_tooltip": null,
            "layout": "IPY_MODEL_6da7f8ec0a724191926a96e2da792605",
            "placeholder": "​",
            "style": "IPY_MODEL_4f8d7e0cfed84402843245d800e4adec",
            "value": " 1500/1500 [00:01&lt;00:00, 1489.32 examples/s]"
          }
        },
        "efd8e8fcade740caafbeb35b2a5c37f8": {
          "model_module": "@jupyter-widgets/base",
          "model_module_version": "1.2.0",
          "model_name": "LayoutModel",
          "state": {
            "_model_module": "@jupyter-widgets/base",
            "_model_module_version": "1.2.0",
            "_model_name": "LayoutModel",
            "_view_count": null,
            "_view_module": "@jupyter-widgets/base",
            "_view_module_version": "1.2.0",
            "_view_name": "LayoutView",
            "align_content": null,
            "align_items": null,
            "align_self": null,
            "border": null,
            "bottom": null,
            "display": null,
            "flex": null,
            "flex_flow": null,
            "grid_area": null,
            "grid_auto_columns": null,
            "grid_auto_flow": null,
            "grid_auto_rows": null,
            "grid_column": null,
            "grid_gap": null,
            "grid_row": null,
            "grid_template_areas": null,
            "grid_template_columns": null,
            "grid_template_rows": null,
            "height": null,
            "justify_content": null,
            "justify_items": null,
            "left": null,
            "margin": null,
            "max_height": null,
            "max_width": null,
            "min_height": null,
            "min_width": null,
            "object_fit": null,
            "object_position": null,
            "order": null,
            "overflow": null,
            "overflow_x": null,
            "overflow_y": null,
            "padding": null,
            "right": null,
            "top": null,
            "visibility": null,
            "width": null
          }
        }
      }
    }
  },
  "nbformat": 4,
  "nbformat_minor": 5
}
